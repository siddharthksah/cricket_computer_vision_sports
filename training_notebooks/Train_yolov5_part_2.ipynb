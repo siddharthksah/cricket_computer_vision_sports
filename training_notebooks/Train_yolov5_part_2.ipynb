{
 "cells": [
  {
   "cell_type": "code",
   "execution_count": 2,
   "id": "38e242ba-efc2-4ac1-ad98-a9e2a3e2d00c",
   "metadata": {
    "tags": []
   },
   "outputs": [
    {
     "name": "stdout",
     "output_type": "stream",
     "text": [
      "/home/sidd/Desktop/cricket_analysis/notebooks\n",
      "/home/sidd/Desktop/cricket_analysis/yolov5\n",
      "/home/sidd/Desktop/cricket_analysis/yolov5\n"
     ]
    }
   ],
   "source": [
    "!pwd\n",
    "%cd ../yolov5\n",
    "# !pwd"
   ]
  },
  {
   "cell_type": "code",
   "execution_count": 3,
   "id": "c1ec655d-ddb4-49b3-a06e-dbede783ab77",
   "metadata": {
    "tags": []
   },
   "outputs": [],
   "source": [
    "!pip install wandb --quiet # logging"
   ]
  },
  {
   "cell_type": "code",
   "execution_count": null,
   "id": "5c2259f6-44ae-4f4d-be67-eb1d8f22bcf5",
   "metadata": {
    "tags": []
   },
   "outputs": [],
   "source": [
    "# hyper parameter tuning"
   ]
  },
  {
   "cell_type": "code",
   "execution_count": null,
   "id": "33052c28-75a8-4500-b0a2-e80b10f54df9",
   "metadata": {},
   "outputs": [],
   "source": [
    "# %%time\n",
    "# # multi GPU training\n",
    "# # train yolov5s on custom data for 100 epochs\n",
    "# # time its performance\n",
    "# # %cd ../yolov5/\n",
    "# !python train.py --img 640 --batch 128 --epochs 10 --data /home/sidd/Desktop/cricket_game_analysis/data/raw/cricket_dataset/data.yaml --weights 'yolov5x.pt' --device 0, 1 --save_period 1"
   ]
  },
  {
   "cell_type": "code",
   "execution_count": null,
   "id": "5728443a-e205-4025-8a83-61850d9f717d",
   "metadata": {
    "tags": []
   },
   "outputs": [],
   "source": [
    "# using optuna to run experiments to find the best hyperparameters"
   ]
  },
  {
   "cell_type": "code",
   "execution_count": null,
   "id": "fd7567a1-401d-4529-840e-45a753f22e59",
   "metadata": {},
   "outputs": [
    {
     "name": "stderr",
     "output_type": "stream",
     "text": [
      "\u001b[32m[I 2023-03-29 11:28:05,469]\u001b[0m A new study created in memory with name: no-name-71e8628c-299a-432c-bb06-01235adbce90\u001b[0m\n"
     ]
    },
    {
     "name": "stdout",
     "output_type": "stream",
     "text": [
      "\n",
      "[INFO] Hyperparameters: img_size=384, batch_size=8, epochs=14, device=0,1\n",
      "\n",
      "\u001b[34m\u001b[1mwandb\u001b[0m: WARNING ⚠️ wandb is deprecated and will be removed in a future release. See supported integrations at https://github.com/ultralytics/yolov5#integrations.\n",
      "wandb: Currently logged in as: siddharthksah. Use `wandb login --relogin` to force relogin\n",
      "\u001b[34m\u001b[1mtrain: \u001b[0mweights=yolov5x.pt, cfg=, data=/home/sidd/Desktop/cricket_analysis/data/raw/cricket_dataset/data.yaml, hyp=data/hyps/hyp.scratch-low.yaml, epochs=14, batch_size=8, imgsz=384, rect=False, resume=False, nosave=False, noval=False, noautoanchor=False, noplots=False, evolve=None, bucket=, cache=None, image_weights=False, device=0,1, multi_scale=False, single_cls=False, optimizer=SGD, sync_bn=False, workers=8, project=runs/train, name=exp, exist_ok=False, quad=False, cos_lr=False, label_smoothing=0.0, patience=100, freeze=[0], save_period=-1, seed=0, local_rank=-1, entity=None, upload_dataset=False, bbox_interval=-1, artifact_alias=latest\n",
      "\u001b[34m\u001b[1mgithub: \u001b[0mup to date with https://github.com/ultralytics/yolov5 ✅\n",
      "YOLOv5 🚀 v7.0-131-g0c8de3f Python-3.8.16 torch-2.0.0+cu117 CUDA:0 (NVIDIA TITAN RTX, 24217MiB)\n",
      "CUDA:1 (NVIDIA TITAN RTX, 24220MiB)\n",
      "\n",
      "\u001b[34m\u001b[1mhyperparameters: \u001b[0mlr0=0.01, lrf=0.01, momentum=0.937, weight_decay=0.0005, warmup_epochs=3.0, warmup_momentum=0.8, warmup_bias_lr=0.1, box=0.05, cls=0.5, cls_pw=1.0, obj=1.0, obj_pw=1.0, iou_t=0.2, anchor_t=4.0, fl_gamma=0.0, hsv_h=0.015, hsv_s=0.7, hsv_v=0.4, degrees=0.0, translate=0.1, scale=0.5, shear=0.0, perspective=0.0, flipud=0.0, fliplr=0.5, mosaic=1.0, mixup=0.0, copy_paste=0.0\n",
      "\u001b[34m\u001b[1mClearML: \u001b[0mrun 'pip install clearml' to automatically track, visualize and remotely train YOLOv5 🚀 in ClearML\n",
      "\u001b[34m\u001b[1mComet: \u001b[0mrun 'pip install comet_ml' to automatically track and visualize YOLOv5 🚀 runs in Comet\n",
      "\u001b[34m\u001b[1mTensorBoard: \u001b[0mStart with 'tensorboard --logdir runs/train', view at http://localhost:6006/\n",
      "wandb: Tracking run with wandb version 0.14.0\n",
      "wandb: Run data is saved locally in /home/sidd/Desktop/cricket_analysis/yolov5/wandb/run-20230329_112809-8rqp6q5w\n",
      "wandb: Run `wandb offline` to turn off syncing.\n",
      "wandb: Syncing run smart-brook-39\n",
      "wandb: ⭐️ View project at https://wandb.ai/siddharthksah/YOLOv5\n",
      "wandb: 🚀 View run at https://wandb.ai/siddharthksah/YOLOv5/runs/8rqp6q5w\n",
      "Overriding model.yaml nc=80 with nc=4\n",
      "\n",
      "from  n    params  module                                  arguments\n",
      "0                -1  1      8800  models.common.Conv                      [3, 80, 6, 2, 2]\n",
      "1                -1  1    115520  models.common.Conv                      [80, 160, 3, 2]\n",
      "2                -1  4    309120  models.common.C3                        [160, 160, 4]\n",
      "3                -1  1    461440  models.common.Conv                      [160, 320, 3, 2]\n",
      "4                -1  8   2259200  models.common.C3                        [320, 320, 8]\n",
      "5                -1  1   1844480  models.common.Conv                      [320, 640, 3, 2]\n",
      "6                -1 12  13125120  models.common.C3                        [640, 640, 12]\n",
      "7                -1  1   7375360  models.common.Conv                      [640, 1280, 3, 2]\n",
      "8                -1  4  19676160  models.common.C3                        [1280, 1280, 4]\n",
      "9                -1  1   4099840  models.common.SPPF                      [1280, 1280, 5]\n",
      "10                -1  1    820480  models.common.Conv                      [1280, 640, 1, 1]\n",
      "11                -1  1         0  torch.nn.modules.upsampling.Upsample    [None, 2, 'nearest']\n",
      "12           [-1, 6]  1         0  models.common.Concat                    [1]\n",
      "13                -1  4   5332480  models.common.C3                        [1280, 640, 4, False]\n",
      "14                -1  1    205440  models.common.Conv                      [640, 320, 1, 1]\n",
      "15                -1  1         0  torch.nn.modules.upsampling.Upsample    [None, 2, 'nearest']\n",
      "16           [-1, 4]  1         0  models.common.Concat                    [1]\n",
      "17                -1  4   1335040  models.common.C3                        [640, 320, 4, False]\n",
      "18                -1  1    922240  models.common.Conv                      [320, 320, 3, 2]\n",
      "19          [-1, 14]  1         0  models.common.Concat                    [1]\n",
      "20                -1  4   4922880  models.common.C3                        [640, 640, 4, False]\n",
      "21                -1  1   3687680  models.common.Conv                      [640, 640, 3, 2]\n",
      "22          [-1, 10]  1         0  models.common.Concat                    [1]\n",
      "23                -1  4  19676160  models.common.C3                        [1280, 1280, 4, False]\n",
      "24      [17, 20, 23]  1     60561  models.yolo.Detect                      [4, [[10, 13, 16, 30, 33, 23], [30, 61, 62, 45, 59, 119], [116, 90, 156, 198, 373, 326]], [320, 640, 1280]]\n",
      "Model summary: 445 layers, 86238001 parameters, 86238001 gradients, 204.7 GFLOPs\n",
      "\n",
      "Transferred 739/745 items from yolov5x.pt\n",
      "\u001b[34m\u001b[1mAMP: \u001b[0mchecks passed ✅\n",
      "\u001b[34m\u001b[1moptimizer:\u001b[0m SGD(lr=0.01) with parameter groups 123 weight(decay=0.0), 126 weight(decay=0.0005), 126 bias\n",
      "WARNING ⚠️ DP not recommended, use torch.distributed.run for best DDP Multi-GPU results.\n",
      "See Multi-GPU Tutorial at https://github.com/ultralytics/yolov5/issues/475 to get started.\n",
      "\u001b[34m\u001b[1mtrain: \u001b[0mScanning /home/sidd/Desktop/cricket_analysis/data/raw/cricket_dataset/train/labels.cache... 3209 images, 0 backgrounds, 0 corrupt: 100%|██████████| 3209/3209 [00:00<?, ?it/s]\n",
      "\u001b[34m\u001b[1mval: \u001b[0mScanning /home/sidd/Desktop/cricket_analysis/data/raw/cricket_dataset/test/labels.cache... 1338 images, 0 backgrounds, 0 corrupt: 100%|██████████| 1338/1338 [00:00<?, ?it/s]\n",
      "\n",
      "\u001b[34m\u001b[1mAutoAnchor: \u001b[0m2.64 anchors/target, 0.934 Best Possible Recall (BPR). Anchors are a poor fit to dataset ⚠️, attempting to improve...\n",
      "\u001b[34m\u001b[1mAutoAnchor: \u001b[0mWARNING ⚠️ Extremely small objects found: 476 of 4422 labels are <3 pixels in size\n",
      "\u001b[34m\u001b[1mAutoAnchor: \u001b[0mRunning kmeans for 9 anchors on 4419 points...\n",
      "\u001b[34m\u001b[1mAutoAnchor: \u001b[0mEvolving anchors with Genetic Algorithm: fitness = 0.8564: 100%|██████████| 1000/1000 [00:00<00:00, 2598.20it/s]\n",
      "\u001b[34m\u001b[1mAutoAnchor: \u001b[0mthr=0.25: 0.9993 best possible recall, 6.23 anchors past thr\n",
      "\u001b[34m\u001b[1mAutoAnchor: \u001b[0mn=9, img_size=384, metric_all=0.413/0.856-mean/best, past_thr=0.528-mean: 2,4, 4,15, 6,11, 5,22, 7,29, 12,19, 16,66, 20,62, 24,88\n",
      "\u001b[34m\u001b[1mAutoAnchor: \u001b[0mDone ✅ (optional: update model *.yaml to use these anchors in the future)\n",
      "Plotting labels to runs/train/exp4/labels.jpg...\n",
      "Image sizes 384 train, 384 val\n",
      "Using 8 dataloader workers\n",
      "Logging results to \u001b[1mruns/train/exp4\u001b[0m\n",
      "Starting training for 14 epochs...\n",
      "\n",
      "Epoch    GPU_mem   box_loss   obj_loss   cls_loss  Instances       Size\n",
      "       0/13      9.76G     0.1099    0.01234     0.0267          4        384: 100%|██████████| 402/402 [01:25<00:00,  4.71it/s]\n",
      "                 Class     Images  Instances          P          R      mAP50   mAP50-95: 100%|██████████| 84/84 [00:08<00:00,  9.83it/s]\n",
      "all       1338       1799      0.653      0.373       0.38      0.154\n",
      "\n",
      "Epoch    GPU_mem   box_loss   obj_loss   cls_loss  Instances       Size\n"
     ]
    }
   ],
   "source": [
    "import optuna\n",
    "import subprocess\n",
    "\n",
    "def objective(trial):\n",
    "    img_size = trial.suggest_int('img_size', 320, 1024, step=32)\n",
    "    batch_size = trial.suggest_int('batch_size', 8, 64, step=8)\n",
    "    epochs = trial.suggest_int('epochs', 10, 30)\n",
    "    device = trial.suggest_categorical('device', ['0,1'])\n",
    "\n",
    "    data = '/home/sidd/Desktop/cricket_analysis/data/raw/cricket_dataset/data.yaml'\n",
    "    weights = 'yolov5x.pt'\n",
    "\n",
    "    command = f\"python train.py --img {img_size} --batch {batch_size} --epochs {epochs} --data {data} --weights {weights} --device {device}\"\n",
    "    process = subprocess.Popen(command, stdout=subprocess.PIPE, stderr=subprocess.STDOUT, shell=True)\n",
    "\n",
    "    print(f\"\\n[INFO] Hyperparameters: img_size={img_size}, batch_size={batch_size}, epochs={epochs}, device={device}\\n\")\n",
    "\n",
    "    while True:\n",
    "        output = process.stdout.readline()\n",
    "        if output == b'' and process.poll() is not None:\n",
    "            break\n",
    "        if output:\n",
    "            print(output.strip().decode())\n",
    "\n",
    "    rc = process.poll()\n",
    "    print(f\"[INFO] Return code: {rc}\\n\")\n",
    "\n",
    "    return -rc\n",
    "\n",
    "if __name__ == '__main__':\n",
    "    study = optuna.create_study(direction='maximize')\n",
    "    study.optimize(objective, n_trials=50)\n",
    "\n",
    "    print(f\"\\n[INFO] Best hyperparameters: {study.best_params}\")\n",
    "    print(f\"[INFO] Best return code: {study.best_value}\")\n",
    "    print(f\"[INFO] Best trial: {study.best_trial.number}\")\n"
   ]
  },
  {
   "cell_type": "code",
   "execution_count": null,
   "id": "ad1fd65f-d38c-48b4-9159-b457f0323d61",
   "metadata": {},
   "outputs": [],
   "source": []
  },
  {
   "cell_type": "code",
   "execution_count": null,
   "id": "d7da0f98-2b3a-4697-9bca-c70bd744688d",
   "metadata": {},
   "outputs": [],
   "source": []
  }
 ],
 "metadata": {
  "kernelspec": {
   "display_name": "Python 3 (ipykernel)",
   "language": "python",
   "name": "python3"
  },
  "language_info": {
   "codemirror_mode": {
    "name": "ipython",
    "version": 3
   },
   "file_extension": ".py",
   "mimetype": "text/x-python",
   "name": "python",
   "nbconvert_exporter": "python",
   "pygments_lexer": "ipython3",
   "version": "3.8.16"
  }
 },
 "nbformat": 4,
 "nbformat_minor": 5
}
