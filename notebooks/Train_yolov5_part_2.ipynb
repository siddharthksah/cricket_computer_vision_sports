{
 "cells": [
  {
   "cell_type": "code",
   "execution_count": 4,
   "id": "38e242ba-efc2-4ac1-ad98-a9e2a3e2d00c",
   "metadata": {
    "tags": []
   },
   "outputs": [
    {
     "name": "stdout",
     "output_type": "stream",
     "text": [
      "/home/sidd/Desktop/cricket_analysis/notebooks\n",
      "/home/sidd/Desktop/cricket_analysis/yolov5\n",
      "/home/sidd/Desktop/cricket_analysis/yolov5\n"
     ]
    }
   ],
   "source": [
    "!pwd\n",
    "%cd ../yolov5\n",
    "!pwd"
   ]
  },
  {
   "cell_type": "code",
   "execution_count": 5,
   "id": "5c2259f6-44ae-4f4d-be67-eb1d8f22bcf5",
   "metadata": {
    "tags": []
   },
   "outputs": [
    {
     "ename": "NameError",
     "evalue": "name 'Image' is not defined",
     "output_type": "error",
     "traceback": [
      "\u001b[0;31m---------------------------------------------------------------------------\u001b[0m",
      "\u001b[0;31mNameError\u001b[0m                                 Traceback (most recent call last)",
      "Cell \u001b[0;32mIn[5], line 3\u001b[0m\n\u001b[1;32m      1\u001b[0m \u001b[38;5;66;03m# we can also output some older school graphs if the tensor board isn't working for whatever reason... \u001b[39;00m\n\u001b[1;32m      2\u001b[0m \u001b[38;5;28;01mfrom\u001b[39;00m \u001b[38;5;21;01mutils\u001b[39;00m\u001b[38;5;21;01m.\u001b[39;00m\u001b[38;5;21;01mplots\u001b[39;00m \u001b[38;5;28;01mimport\u001b[39;00m plot_results  \u001b[38;5;66;03m# plot results.txt as results.png\u001b[39;00m\n\u001b[0;32m----> 3\u001b[0m \u001b[43mImage\u001b[49m(filename\u001b[38;5;241m=\u001b[39m\u001b[38;5;124m'\u001b[39m\u001b[38;5;124mruns/train/exp2/results.png\u001b[39m\u001b[38;5;124m'\u001b[39m, width\u001b[38;5;241m=\u001b[39m\u001b[38;5;241m1000\u001b[39m)  \u001b[38;5;66;03m# view results.png\u001b[39;00m\n",
      "\u001b[0;31mNameError\u001b[0m: name 'Image' is not defined"
     ]
    }
   ],
   "source": [
    "# we can also output some older school graphs if the tensor board isn't working for whatever reason... \n",
    "from utils.plots import plot_results  # plot results.txt as results.png\n",
    "from PIL import Image\n",
    "Image(filename='runs/train/exp2/results.png', width=1000)  # view results.png"
   ]
  },
  {
   "cell_type": "code",
   "execution_count": null,
   "id": "33052c28-75a8-4500-b0a2-e80b10f54df9",
   "metadata": {},
   "outputs": [],
   "source": [
    "%%time\n",
    "# multi GPU training\n",
    "# train yolov5s on custom data for 100 epochs\n",
    "# time its performance\n",
    "# %cd ../yolov5/\n",
    "!python train.py --img 640 --batch 16 --epochs 5 --data /home/sidd/Desktop/cricket_game_analysis/data/raw/cricket_dataset/data.yaml --weights 'yolov5x.pt' --device 0,1"
   ]
  },
  {
   "cell_type": "code",
   "execution_count": null,
   "id": "9d52b778-2d06-40f9-afbe-68d10a6ffc51",
   "metadata": {},
   "outputs": [],
   "source": [
    "!pip install optuna --quiet"
   ]
  },
  {
   "cell_type": "code",
   "execution_count": null,
   "id": "fd7567a1-401d-4529-840e-45a753f22e59",
   "metadata": {},
   "outputs": [],
   "source": [
    "import optuna\n",
    "import subprocess\n",
    "\n",
    "def objective(trial):\n",
    "    img_size = trial.suggest_int('img_size', 320, 1024, step=32)\n",
    "    batch_size = trial.suggest_int('batch_size', 8, 64, step=8)\n",
    "    epochs = trial.suggest_int('epochs', 10, 30)\n",
    "    device = trial.suggest_categorical('device', ['0,1'])\n",
    "\n",
    "    data = '/home/sidd/Desktop/cricket_game_analysis/data/raw/cricket_dataset/data.yaml'\n",
    "    weights = 'yolov5x.pt'\n",
    "\n",
    "    command = f\"python train.py --img {img_size} --batch {batch_size} --epochs {epochs} --data {data} --weights {weights} --device {device}\"\n",
    "    process = subprocess.Popen(command, stdout=subprocess.PIPE, stderr=subprocess.STDOUT, shell=True)\n",
    "\n",
    "    print(f\"\\n[INFO] Hyperparameters: img_size={img_size}, batch_size={batch_size}, epochs={epochs}, device={device}\\n\")\n",
    "\n",
    "    while True:\n",
    "        output = process.stdout.readline()\n",
    "        if output == b'' and process.poll() is not None:\n",
    "            break\n",
    "        if output:\n",
    "            print(output.strip().decode())\n",
    "\n",
    "    rc = process.poll()\n",
    "    print(f\"[INFO] Return code: {rc}\\n\")\n",
    "\n",
    "    return -rc\n",
    "\n",
    "if __name__ == '__main__':\n",
    "    study = optuna.create_study(direction='maximize')\n",
    "    study.optimize(objective, n_trials=5)\n",
    "\n",
    "    print(f\"\\n[INFO] Best hyperparameters: {study.best_params}\")\n",
    "    print(f\"[INFO] Best return code: {study.best_value}\")\n",
    "    print(f\"[INFO] Best trial: {study.best_trial.number}\")\n"
   ]
  },
  {
   "cell_type": "code",
   "execution_count": null,
   "id": "ad1fd65f-d38c-48b4-9159-b457f0323d61",
   "metadata": {},
   "outputs": [],
   "source": []
  },
  {
   "cell_type": "code",
   "execution_count": null,
   "id": "d7da0f98-2b3a-4697-9bca-c70bd744688d",
   "metadata": {},
   "outputs": [],
   "source": []
  }
 ],
 "metadata": {
  "kernelspec": {
   "display_name": "Python 3 (ipykernel)",
   "language": "python",
   "name": "python3"
  },
  "language_info": {
   "codemirror_mode": {
    "name": "ipython",
    "version": 3
   },
   "file_extension": ".py",
   "mimetype": "text/x-python",
   "name": "python",
   "nbconvert_exporter": "python",
   "pygments_lexer": "ipython3",
   "version": "3.8.16"
  }
 },
 "nbformat": 4,
 "nbformat_minor": 5
}
