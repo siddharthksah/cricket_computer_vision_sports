{
 "cells": [
  {
   "cell_type": "code",
   "execution_count": 3,
   "metadata": {},
   "outputs": [],
   "source": [
    "# we train cricket ball, batsmen, wicket and bat - object detection model based on the YOLOV5 architecture.\n",
    "# we log using comet_ml\n",
    "# the hyper parameter tuning is done using Optuna\n",
    "\n",
    "# This code performs object detection on cricket images using a custom YOLOv5 model. The code trains the model\n",
    "# on a dataset of cricket images, logs the training process and results using Comet.ml, and performs hyperparameter\n",
    "# tuning using the Optuna library.\n",
    "\n",
    "# The first part of the code sets up the environment by installing necessary dependencies and checking the version\n",
    "# of PyTorch being used. The code then trains the YOLOv5 model on the custom cricket dataset for a specified number \n",
    "# of epochs, and displays the training progress and results using Tensorboard.\n",
    "\n",
    "# After training the model, the code performs inference on test images using the trained model and displays the results.\n",
    "# The code also logs the training process and results using Comet.ml, which allows for easy visualization and analysis of the training process.\n",
    "\n",
    "# Finally, the code performs hyperparameter tuning using Optuna to find the best set of hyperparameters for the YOLOv5\n",
    "# model. The objective function defines the hyperparameters to be optimized, such as the image size, batch size, number of\n",
    "# epochs, and device to use for training. The function then executes the YOLOv5 training command with the chosen \n",
    "# hyperparameters, captures the output, and prints it to the console to show the training progress and any error messages that might occur.\n",
    "\n",
    "# The if __name__ == '__main__' block creates an Optuna study object and calls the study.optimize function to run \n",
    "# the hyperparameter search for a specified number of trials. After the search is completed, the code prints out the \n",
    "# best hyperparameters found, the best return code, and the best trial number.\n",
    "\n",
    "# This code provides a complete solution for performing object detection on cricket images using a custom YOLOv5\n",
    "# model, with options for logging and visualization of the training process and hyperparameter tuning."
   ]
  },
  {
   "cell_type": "code",
   "execution_count": 8,
   "metadata": {
    "tags": []
   },
   "outputs": [
    {
     "name": "stdout",
     "output_type": "stream",
     "text": [
      "/home/sidd/Desktop/cricket_analysis/notebooks\n",
      "/home/sidd/Desktop/cricket_analysis/yolov5\n",
      "/home/sidd/Desktop/cricket_analysis/yolov5\n"
     ]
    }
   ],
   "source": [
    "!pwd\n",
    "%cd ../yolov5/\n",
    "!pwd"
   ]
  },
  {
   "cell_type": "code",
   "execution_count": 9,
   "metadata": {
    "colab": {
     "base_uri": "https://localhost:8080/"
    },
    "id": "wbvMlHd_QwMG",
    "outputId": "484dd5f5-a33e-4e56-ac20-10dc71b36009",
    "tags": []
   },
   "outputs": [
    {
     "name": "stdout",
     "output_type": "stream",
     "text": [
      "Setup complete. Using torch 2.0.0+cu117 _CudaDeviceProperties(name='NVIDIA TITAN RTX', major=7, minor=5, total_memory=24217MB, multi_processor_count=72)\n"
     ]
    }
   ],
   "source": [
    "# install dependencies as necessary\n",
    "import torch\n",
    "\n",
    "from IPython.display import Image, clear_output  # to display images\n",
    "from utils.downloads import attempt_download  # to download models/datasets\n",
    "\n",
    "# clear_output()\n",
    "print('Setup complete. Using torch %s %s' % (torch.__version__, torch.cuda.get_device_properties(0) if torch.cuda.is_available() else 'CPU'))"
   ]
  },
  {
   "cell_type": "code",
   "execution_count": 10,
   "metadata": {
    "tags": []
   },
   "outputs": [
    {
     "name": "stdout",
     "output_type": "stream",
     "text": [
      "/home/sidd/Desktop/cricket_analysis/yolov5\n"
     ]
    }
   ],
   "source": [
    "!pwd"
   ]
  },
  {
   "cell_type": "code",
   "execution_count": 13,
   "metadata": {
    "colab": {
     "base_uri": "https://localhost:8080/"
    },
    "id": "1NcFxRcFdJ_O",
    "outputId": "84614320-0d9c-40c2-dbef-a2c121ab667b",
    "tags": []
   },
   "outputs": [
    {
     "name": "stdout",
     "output_type": "stream",
     "text": [
      "\u001b[34m\u001b[1mtrain: \u001b[0mweights=yolov5x.pt, cfg=, data=/home/sidd/Desktop/cricket_analysis/data/raw/cricket_dataset/data.yaml, hyp=data/hyps/hyp.scratch-low.yaml, epochs=5, batch_size=16, imgsz=416, rect=False, resume=False, nosave=False, noval=False, noautoanchor=False, noplots=False, evolve=None, bucket=, cache=None, image_weights=False, device=, multi_scale=False, single_cls=False, optimizer=SGD, sync_bn=False, workers=8, project=runs/train, name=exp, exist_ok=False, quad=False, cos_lr=False, label_smoothing=0.0, patience=100, freeze=[0], save_period=-1, seed=0, local_rank=-1, entity=None, upload_dataset=False, bbox_interval=-1, artifact_alias=latest\n",
      "\u001b[34m\u001b[1mgithub: \u001b[0mup to date with https://github.com/ultralytics/yolov5 ✅\n",
      "YOLOv5 🚀 v7.0-131-g0c8de3f Python-3.8.16 torch-2.0.0+cu117 CUDA:0 (NVIDIA TITAN RTX, 24217MiB)\n",
      "\n",
      "\u001b[34m\u001b[1mhyperparameters: \u001b[0mlr0=0.01, lrf=0.01, momentum=0.937, weight_decay=0.0005, warmup_epochs=3.0, warmup_momentum=0.8, warmup_bias_lr=0.1, box=0.05, cls=0.5, cls_pw=1.0, obj=1.0, obj_pw=1.0, iou_t=0.2, anchor_t=4.0, fl_gamma=0.0, hsv_h=0.015, hsv_s=0.7, hsv_v=0.4, degrees=0.0, translate=0.1, scale=0.5, shear=0.0, perspective=0.0, flipud=0.0, fliplr=0.5, mosaic=1.0, mixup=0.0, copy_paste=0.0\n",
      "\u001b[34m\u001b[1mClearML: \u001b[0mrun 'pip install clearml' to automatically track, visualize and remotely train YOLOv5 🚀 in ClearML\n",
      "\u001b[34m\u001b[1mComet: \u001b[0mrun 'pip install comet_ml' to automatically track and visualize YOLOv5 🚀 runs in Comet\n",
      "\u001b[34m\u001b[1mTensorBoard: \u001b[0mStart with 'tensorboard --logdir runs/train', view at http://localhost:6006/\n",
      "Downloading https://github.com/ultralytics/yolov5/releases/download/v7.0/yolov5x.pt to yolov5x.pt...\n",
      "100%|████████████████████████████████████████| 166M/166M [00:09<00:00, 17.9MB/s]\n",
      "\n",
      "Overriding model.yaml nc=80 with nc=4\n",
      "\n",
      "                 from  n    params  module                                  arguments                     \n",
      "  0                -1  1      8800  models.common.Conv                      [3, 80, 6, 2, 2]              \n",
      "  1                -1  1    115520  models.common.Conv                      [80, 160, 3, 2]               \n",
      "  2                -1  4    309120  models.common.C3                        [160, 160, 4]                 \n",
      "  3                -1  1    461440  models.common.Conv                      [160, 320, 3, 2]              \n",
      "  4                -1  8   2259200  models.common.C3                        [320, 320, 8]                 \n",
      "  5                -1  1   1844480  models.common.Conv                      [320, 640, 3, 2]              \n",
      "  6                -1 12  13125120  models.common.C3                        [640, 640, 12]                \n",
      "  7                -1  1   7375360  models.common.Conv                      [640, 1280, 3, 2]             \n",
      "  8                -1  4  19676160  models.common.C3                        [1280, 1280, 4]               \n",
      "  9                -1  1   4099840  models.common.SPPF                      [1280, 1280, 5]               \n",
      " 10                -1  1    820480  models.common.Conv                      [1280, 640, 1, 1]             \n",
      " 11                -1  1         0  torch.nn.modules.upsampling.Upsample    [None, 2, 'nearest']          \n",
      " 12           [-1, 6]  1         0  models.common.Concat                    [1]                           \n",
      " 13                -1  4   5332480  models.common.C3                        [1280, 640, 4, False]         \n",
      " 14                -1  1    205440  models.common.Conv                      [640, 320, 1, 1]              \n",
      " 15                -1  1         0  torch.nn.modules.upsampling.Upsample    [None, 2, 'nearest']          \n",
      " 16           [-1, 4]  1         0  models.common.Concat                    [1]                           \n",
      " 17                -1  4   1335040  models.common.C3                        [640, 320, 4, False]          \n",
      " 18                -1  1    922240  models.common.Conv                      [320, 320, 3, 2]              \n",
      " 19          [-1, 14]  1         0  models.common.Concat                    [1]                           \n",
      " 20                -1  4   4922880  models.common.C3                        [640, 640, 4, False]          \n",
      " 21                -1  1   3687680  models.common.Conv                      [640, 640, 3, 2]              \n",
      " 22          [-1, 10]  1         0  models.common.Concat                    [1]                           \n",
      " 23                -1  4  19676160  models.common.C3                        [1280, 1280, 4, False]        \n",
      " 24      [17, 20, 23]  1     60561  models.yolo.Detect                      [4, [[10, 13, 16, 30, 33, 23], [30, 61, 62, 45, 59, 119], [116, 90, 156, 198, 373, 326]], [320, 640, 1280]]\n",
      "Model summary: 445 layers, 86238001 parameters, 86238001 gradients, 204.7 GFLOPs\n",
      "\n",
      "Transferred 739/745 items from yolov5x.pt\n",
      "\u001b[34m\u001b[1mAMP: \u001b[0mchecks passed ✅\n",
      "\u001b[34m\u001b[1moptimizer:\u001b[0m SGD(lr=0.01) with parameter groups 123 weight(decay=0.0), 126 weight(decay=0.0005), 126 bias\n",
      "WARNING ⚠️ DP not recommended, use torch.distributed.run for best DDP Multi-GPU results.\n",
      "See Multi-GPU Tutorial at https://github.com/ultralytics/yolov5/issues/475 to get started.\n",
      "\u001b[34m\u001b[1mtrain: \u001b[0mScanning /home/sidd/Desktop/cricket_analysis/data/raw/cricket_dataset/tra\u001b[0m\n",
      "\u001b[34m\u001b[1mtrain: \u001b[0mNew cache created: /home/sidd/Desktop/cricket_analysis/data/raw/cricket_dataset/train/labels.cache\n",
      "\u001b[34m\u001b[1mval: \u001b[0mScanning /home/sidd/Desktop/cricket_analysis/data/raw/cricket_dataset/test/\u001b[0m\n",
      "\u001b[34m\u001b[1mval: \u001b[0mNew cache created: /home/sidd/Desktop/cricket_analysis/data/raw/cricket_dataset/test/labels.cache\n",
      "\n",
      "\u001b[34m\u001b[1mAutoAnchor: \u001b[0m2.86 anchors/target, 0.945 Best Possible Recall (BPR). Anchors are a poor fit to dataset ⚠️, attempting to improve...\n",
      "\u001b[34m\u001b[1mAutoAnchor: \u001b[0mWARNING ⚠️ Extremely small objects found: 299 of 4422 labels are <3 pixels in size\n",
      "\u001b[34m\u001b[1mAutoAnchor: \u001b[0mRunning kmeans for 9 anchors on 4422 points...\n",
      "\u001b[34m\u001b[1mAutoAnchor: \u001b[0mEvolving anchors with Genetic Algorithm: fitness = 0.8488: 100%|████\u001b[0m\n",
      "\u001b[34m\u001b[1mAutoAnchor: \u001b[0mthr=0.25: 1.0000 best possible recall, 5.74 anchors past thr\n",
      "\u001b[34m\u001b[1mAutoAnchor: \u001b[0mn=9, img_size=416, metric_all=0.390/0.849-mean/best, past_thr=0.533-mean: 3,5, 4,16, 6,24, 8,32, 13,20, 17,69, 22,68, 20,87, 69,145\n",
      "\u001b[34m\u001b[1mAutoAnchor: \u001b[0mDone ✅ (optional: update model *.yaml to use these anchors in the future)\n",
      "Plotting labels to runs/train/exp2/labels.jpg... \n",
      "Image sizes 416 train, 416 val\n",
      "Using 8 dataloader workers\n",
      "Logging results to \u001b[1mruns/train/exp2\u001b[0m\n",
      "Starting training for 5 epochs...\n",
      "\n",
      "      Epoch    GPU_mem   box_loss   obj_loss   cls_loss  Instances       Size\n",
      "        0/4      4.51G     0.1049    0.01351     0.0261         17        416: 1\n",
      "                 Class     Images  Instances          P          R      mAP50   \n",
      "                   all       1338       1799      0.832      0.123      0.206     0.0644\n",
      "\n",
      "      Epoch    GPU_mem   box_loss   obj_loss   cls_loss  Instances       Size\n",
      "        1/4      5.42G     0.0765    0.01166    0.01363         11        416: 1\n",
      "                 Class     Images  Instances          P          R      mAP50   \n",
      "                   all       1338       1799      0.609      0.519      0.431      0.168\n",
      "\n",
      "      Epoch    GPU_mem   box_loss   obj_loss   cls_loss  Instances       Size\n",
      "        2/4      5.42G    0.06778   0.009535    0.01088         25        416: 1\n",
      "                 Class     Images  Instances          P          R      mAP50   \n",
      "                   all       1338       1799      0.443      0.624      0.469      0.196\n",
      "\n",
      "      Epoch    GPU_mem   box_loss   obj_loss   cls_loss  Instances       Size\n",
      "        3/4      5.42G    0.05724   0.008276   0.009003         15        416: 1\n",
      "                 Class     Images  Instances          P          R      mAP50   \n",
      "                   all       1338       1799      0.674      0.675        0.6      0.306\n",
      "\n",
      "      Epoch    GPU_mem   box_loss   obj_loss   cls_loss  Instances       Size\n",
      "        4/4      5.42G    0.05364   0.007763   0.008069         13        416: 1\n",
      "                 Class     Images  Instances          P          R      mAP50   \n",
      "                   all       1338       1799      0.656      0.673      0.611      0.313\n",
      "\n",
      "5 epochs completed in 0.097 hours.\n",
      "Optimizer stripped from runs/train/exp2/weights/last.pt, 173.0MB\n",
      "Optimizer stripped from runs/train/exp2/weights/best.pt, 173.0MB\n",
      "\n",
      "Validating runs/train/exp2/weights/best.pt...\n",
      "Fusing layers... \n",
      "Model summary: 322 layers, 86193601 parameters, 0 gradients, 203.8 GFLOPs\n",
      "                 Class     Images  Instances          P          R      mAP50   \n",
      "                   all       1338       1799      0.656      0.673      0.611      0.313\n",
      "                 stump       1338        932      0.794      0.959      0.955      0.533\n",
      "                  ball       1338        285      0.576     0.0428      0.124     0.0353\n",
      "                   bat       1338        318      0.413      0.692      0.423      0.151\n",
      "               batsmen       1338        264       0.84          1       0.94      0.534\n",
      "Results saved to \u001b[1mruns/train/exp2\u001b[0m\n",
      "CPU times: user 3.74 s, sys: 919 ms, total: 4.66 s\n",
      "Wall time: 6min 24s\n"
     ]
    }
   ],
   "source": [
    "%%time\n",
    "# train yolov5s on custom data for 100 epochs\n",
    "# time its performance\n",
    "\n",
    "# %cd ../yolov5/\n",
    "!python train.py --img 416 --batch 16 --epochs 5 --data /home/sidd/Desktop/cricket_analysis/data/raw/cricket_dataset/data.yaml --weights 'yolov5x.pt'"
   ]
  },
  {
   "cell_type": "code",
   "execution_count": 26,
   "metadata": {
    "tags": []
   },
   "outputs": [],
   "source": [
    "# # first, display our ground truth data\n",
    "# print(\"GROUND TRUTH TRAINING DATA:\")\n",
    "# Image(filename='/home/sidd/Desktop/cricket_analysis/yolov5/runs/train/exp2/train_batch0.jpg', width=900)"
   ]
  },
  {
   "cell_type": "code",
   "execution_count": 16,
   "metadata": {
    "tags": []
   },
   "outputs": [
    {
     "name": "stdout",
     "output_type": "stream",
     "text": [
      "best.pt  last.pt\n"
     ]
    }
   ],
   "source": [
    "%ls /home/sidd/Desktop/cricket_analysis/yolov5/runs/train/exp2/weights"
   ]
  },
  {
   "cell_type": "code",
   "execution_count": 17,
   "metadata": {
    "tags": []
   },
   "outputs": [
    {
     "name": "stdout",
     "output_type": "stream",
     "text": [
      "/home/sidd/Desktop/cricket_analysis/yolov5\n"
     ]
    }
   ],
   "source": [
    "!pwd"
   ]
  },
  {
   "cell_type": "code",
   "execution_count": 25,
   "metadata": {
    "tags": []
   },
   "outputs": [],
   "source": [
    "# !python detect.py --weights /home/sidd/Desktop/cricket_analysis/yolov5/runs/train/exp2/weights/best.pt --img 416 --conf 0.4 --source /home/sidd/Desktop/cricket_analysis/data/raw/cricket_dataset/test/images"
   ]
  },
  {
   "cell_type": "code",
   "execution_count": 22,
   "metadata": {
    "tags": []
   },
   "outputs": [],
   "source": [
    "#display inference on ALL test images\n",
    "#this looks much better with longer training above\n",
    "\n",
    "# import glob\n",
    "# from IPython.display import Image, display\n",
    "\n",
    "# for imageName in glob.glob('runs/detect/exp2/*.jpg'): #assuming JPG\n",
    "#     display(Image(filename=imageName))\n",
    "#     print(\"\\n\")\n",
    "\n",
    "# from PIL import Image\n",
    "# import glob\n",
    "\n",
    "# images = []\n",
    "# for imageName in glob.glob('runs/detect/exp/*.jpg'): # assuming JPG\n",
    "#     images.append(Image.open(imageName))\n",
    "\n",
    "# # define the size of the collage\n",
    "# width, height = images[0].size\n",
    "# max_images_per_row = 5\n",
    "\n",
    "# # compute the size of the collage based on the number of images\n",
    "# num_images = len(images)\n",
    "# num_rows = (num_images + max_images_per_row - 1) // max_images_per_row\n",
    "# collage_width = max_images_per_row * width\n",
    "# collage_height = num_rows * height\n",
    "\n",
    "# # create a new image to hold the collage\n",
    "# collage = Image.new('RGB', (collage_width, collage_height))\n",
    "\n",
    "# # add the images to the collage\n",
    "# for i, img in enumerate(images):\n",
    "#     row = i // max_images_per_row\n",
    "#     col = i % max_images_per_row\n",
    "#     collage.paste(img, (col * width, row * height))\n",
    "\n",
    "# # display the final collage\n",
    "# collage.show()"
   ]
  },
  {
   "cell_type": "code",
   "execution_count": 19,
   "metadata": {
    "tags": []
   },
   "outputs": [],
   "source": [
    "!pip install comet_ml --quiet #logging and visualization"
   ]
  },
  {
   "cell_type": "code",
   "execution_count": 22,
   "metadata": {
    "tags": []
   },
   "outputs": [],
   "source": [
    "!export COMET_API_KEY=$(cat /home/sidd/Desktop/cricket_game_analysis/comet_api.txt)"
   ]
  },
  {
   "cell_type": "code",
   "execution_count": null,
   "metadata": {},
   "outputs": [],
   "source": [
    "# import os\n",
    "\n",
    "# api_key = os.environ['API_KEY']"
   ]
  },
  {
   "cell_type": "code",
   "execution_count": 23,
   "metadata": {
    "tags": []
   },
   "outputs": [
    {
     "name": "stdout",
     "output_type": "stream",
     "text": [
      "Please enter your Comet API key from https://www.comet.com/api/my/settings/\n",
      "(api key may not show as you type)\n"
     ]
    },
    {
     "name": "stdin",
     "output_type": "stream",
     "text": [
      "Comet API key:  ········\n"
     ]
    },
    {
     "name": "stderr",
     "output_type": "stream",
     "text": [
      "COMET INFO: Comet API key is valid\n",
      "COMET INFO: Comet API key saved in /home/sidd/.comet.config\n"
     ]
    }
   ],
   "source": [
    "import comet_ml\n",
    "comet_ml.init(project_name='cricket-yolov5')"
   ]
  },
  {
   "cell_type": "code",
   "execution_count": 23,
   "metadata": {
    "tags": []
   },
   "outputs": [
    {
     "name": "stdout",
     "output_type": "stream",
     "text": [
      "/home/sidd/Desktop/cricket_analysis/yolov5\n"
     ]
    }
   ],
   "source": [
    "!pwd"
   ]
  },
  {
   "cell_type": "code",
   "execution_count": 29,
   "metadata": {
    "tags": []
   },
   "outputs": [],
   "source": [
    "# deleting caches\n",
    "!find . | grep -E \"(__pycache__|\\.pyc|\\.pyo$)\" | xargs rm -rf"
   ]
  },
  {
   "cell_type": "code",
   "execution_count": null,
   "metadata": {},
   "outputs": [],
   "source": []
  }
 ],
 "metadata": {
  "accelerator": "GPU",
  "colab": {
   "provenance": []
  },
  "kernelspec": {
   "display_name": "Python 3 (ipykernel)",
   "language": "python",
   "name": "python3"
  },
  "language_info": {
   "codemirror_mode": {
    "name": "ipython",
    "version": 3
   },
   "file_extension": ".py",
   "mimetype": "text/x-python",
   "name": "python",
   "nbconvert_exporter": "python",
   "pygments_lexer": "ipython3",
   "version": "3.8.16"
  }
 },
 "nbformat": 4,
 "nbformat_minor": 4
}
